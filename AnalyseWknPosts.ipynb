{
 "metadata": {
  "name": "AnalyseWknPosts"
 },
 "nbformat": 3,
 "nbformat_minor": 0,
 "worksheets": [
  {
   "cells": [
    {
     "cell_type": "heading",
     "level": 1,
     "metadata": {},
     "source": [
      "Analyse WKN Posts"
     ]
    },
    {
     "cell_type": "code",
     "collapsed": false,
     "input": [
      "#Load file function\n",
      "def load_file(filename):\n",
      "    f = open(filename,'r')\n",
      "    data = f.read()\n",
      "    f.close()\n",
      "    return data"
     ],
     "language": "python",
     "metadata": {},
     "outputs": [],
     "prompt_number": 816
    },
    {
     "cell_type": "heading",
     "level": 3,
     "metadata": {},
     "source": [
      "Load and manipulate data"
     ]
    },
    {
     "cell_type": "code",
     "collapsed": false,
     "input": [
      "import json\n",
      "import pandas as pd\n",
      "\n",
      "#Set display properties\n",
      "pd.set_option(\"display.line_width\",500)\n",
      "pd.set_option(\"display.width\",1000)\n",
      "#Load all WKN posts\n",
      "messages = json.loads(load_file('db/wkn_filtered.txt'))\n",
      "#Transfer to pandas dataframe\n",
      "db = pd.DataFrame.from_records(messages)\n",
      "#Map name short\n",
      "db['from_name'] = db['from'].map(lambda x: x['name'])\n",
      "#Create time index\n",
      "db = db.set_index(pd.to_datetime(db['created_time']))\n",
      "#Sort for time when post was created\n",
      "db = db.sort_index(ascending=False)"
     ],
     "language": "python",
     "metadata": {},
     "outputs": [],
     "prompt_number": 817
    },
    {
     "cell_type": "heading",
     "level": 3,
     "metadata": {},
     "source": [
      "Who wrote posts recently?"
     ]
    },
    {
     "cell_type": "code",
     "collapsed": false,
     "input": [
      "grouped_db = db.groupby('from_name').max()['created_time']\n",
      "count_db = db.groupby('from_name').count()['message']\n",
      "concat_db = pd.concat([grouped_db, count_db], axis=1)\n",
      "sorted_db = concat_db.sort('created_time', ascending=False)\n",
      "sorted_db.rename(columns={'created_time': 'Last message', 'message': 'Number of Messages'}, inplace = True)\n",
      "#display(sorted_db)\n",
      "#print 'Rene und Orkan sind die richtigen Jungs'\n",
      "#db['from_name'].value_counts()"
     ],
     "language": "python",
     "metadata": {},
     "outputs": [
      {
       "output_type": "pyout",
       "prompt_number": 847,
       "text": [
        "from_name\n",
        "Alexander Wagner   NaN\n",
        "Dimitri Kummer     NaN\n",
        "Name: 2011-12-13T04:22:59+0000, dtype: float64"
       ]
      }
     ],
     "prompt_number": 847
    },
    {
     "cell_type": "heading",
     "level": 3,
     "metadata": {},
     "source": [
      "Display some Posts"
     ]
    },
    {
     "cell_type": "code",
     "collapsed": false,
     "input": [
      "def print_msg(db, idx):\n",
      "    print db.iloc[idx]['created_time']\n",
      "    print db.iloc[idx]['message']\n",
      "    if not pd.isnull(db.iloc[idx]['comments']):\n",
      "        for ix, cmt in enumerate(db.iloc[idx]['comments']['data']):\n",
      "            print 'Comment {}: '.format(ix+1) + cmt['message']"
     ],
     "language": "python",
     "metadata": {},
     "outputs": [],
     "prompt_number": 390
    },
    {
     "cell_type": "code",
     "collapsed": false,
     "input": [
      "import IPython.core.display\n",
      "\n",
      "def ipynb_input(varname, prompt=''):\n",
      "        \"\"\"Prompt user for input and assign string val to given variable name.\"\"\"\n",
      "        js_code = (\"\"\"\n",
      "            var value = prompt(\"{prompt}\",\"\");\n",
      "            var py_code = \"{varname} = '\" + value + \"'\";\n",
      "            IPython.notebook.kernel.execute(py_code);\n",
      "        \"\"\").format(prompt=prompt, varname=varname)\n",
      "        return IPython.core.display.Javascript(js_code)"
     ],
     "language": "python",
     "metadata": {},
     "outputs": [],
     "prompt_number": 394
    },
    {
     "cell_type": "code",
     "collapsed": false,
     "input": [
      "orkan = db[(db['from_name'] == u\"Orkan Kuyas\")]\n",
      "rene = db[(db['from_name'] == u\"Ren\\xe9 Rodriguez\")]"
     ],
     "language": "python",
     "metadata": {},
     "outputs": [
      {
       "output_type": "stream",
       "stream": "stdout",
       "text": [
        "2013-11-21T16:04:13+0000\n",
        "Kaufe Gold OS Long\n",
        "\u00dcber Frankfurt \n",
        "\n",
        "WKN: DT0JUV\n",
        "\n",
        "Kurs : 7,80\n",
        "Comment 1: geschlossen zu 5,53 !!! Gold hat meine Marke gebrochen ! Verluste geh\u00f6ren auch zu dem Gesch\u00e4ft\n"
       ]
      }
     ],
     "prompt_number": 450
    },
    {
     "cell_type": "code",
     "collapsed": false,
     "input": [
      "i = 98\n",
      "print_msg(orkan, i)"
     ],
     "language": "python",
     "metadata": {},
     "outputs": [
      {
       "output_type": "stream",
       "stream": "stdout",
       "text": [
        "2012-08-02T09:15:58+0000\n",
        "Orkan Kuyas\n",
        "\n",
        " \n",
        "KAUFE DAX SHORT OS\n",
        " \n",
        "WKN DX0LPJ\n",
        " \n",
        "ZU : 3,26 !\n",
        " \n",
        "BASIS 6950 / STOP IST ENDE DER LAUFZEIT 01.10.2012\n",
        "Comment 1: zu 4,30 TVK ! REST AUF EINSTAND !!!!!!!!!!!!\n",
        "Comment 2: soviel zum thema alle sind long !!!!!!! OH MANN !!!!\n",
        "Comment 3: 4,70 50% weg ! rest auf einstand nicht vergessen !!!!! nun fast 50 % in weniger als 8 stunden ! passt\n",
        "Comment 4: rest raus zum einstand\n",
        "Comment 5: Trade ende !!!!\n"
       ]
      }
     ],
     "prompt_number": 630
    },
    {
     "cell_type": "code",
     "collapsed": false,
     "input": [
      "orkan.iloc[i]['buy'] = 3.43\n",
      "orkan.iloc[i]['sell'] = 0\n",
      "#orkan.iloc[i]['sell'] = 0.53"
     ],
     "language": "python",
     "metadata": {},
     "outputs": [],
     "prompt_number": 627
    },
    {
     "cell_type": "code",
     "collapsed": false,
     "input": [
      "db[(db['from_name'] == u\"Orkan Kuyas\")] = orkan"
     ],
     "language": "python",
     "metadata": {},
     "outputs": [],
     "prompt_number": 631
    },
    {
     "cell_type": "code",
     "collapsed": false,
     "input": [
      "depot=0\n",
      "df = pd.DataFrame(orkan[['buy','sell']], index=pd.to_datetime(db[(db['from_name'] == u\"Orkan Kuyas\")]['created_time']))\n",
      "df['depot'] = 0\n",
      "df = df.sort_index(ascending=True)\n",
      "df['depot'] = (df['sell'] / df['buy'] - 1)*1000\n"
     ],
     "language": "python",
     "metadata": {},
     "outputs": [],
     "prompt_number": 652
    },
    {
     "cell_type": "code",
     "collapsed": false,
     "input": [
      "dd = pd.DataFrame([1,3,5])\n",
      "dd.cumsum(axis=0)"
     ],
     "language": "python",
     "metadata": {},
     "outputs": [
      {
       "html": [
        "<div style=\"max-height:1000px;max-width:1500px;overflow:auto;\">\n",
        "<table border=\"1\" class=\"dataframe\">\n",
        "  <thead>\n",
        "    <tr style=\"text-align: right;\">\n",
        "      <th></th>\n",
        "      <th>0</th>\n",
        "    </tr>\n",
        "  </thead>\n",
        "  <tbody>\n",
        "    <tr>\n",
        "      <th>0</th>\n",
        "      <td> 1</td>\n",
        "    </tr>\n",
        "    <tr>\n",
        "      <th>1</th>\n",
        "      <td> 4</td>\n",
        "    </tr>\n",
        "    <tr>\n",
        "      <th>2</th>\n",
        "      <td> 9</td>\n",
        "    </tr>\n",
        "  </tbody>\n",
        "</table>\n",
        "</div>"
       ],
       "output_type": "pyout",
       "prompt_number": 651,
       "text": [
        "   0\n",
        "0  1\n",
        "1  4\n",
        "2  9"
       ]
      }
     ],
     "prompt_number": 651
    }
   ],
   "metadata": {}
  }
 ]
}