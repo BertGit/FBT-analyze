{
 "metadata": {
  "name": "Main"
 },
 "nbformat": 3,
 "nbformat_minor": 0,
 "worksheets": [
  {
   "cells": [
    {
     "cell_type": "code",
     "collapsed": false,
     "input": [
      "import pandas\n",
      "import json\n",
      "f = open('db.txt','r')\n",
      "\n",
      "data = f.read()\n",
      "f.close()\n",
      "messages = json.loads(data)\n",
      "for msg in messages[11:12]:\n",
      "    print msg[\"message\"]"
     ],
     "language": "python",
     "metadata": {},
     "outputs": [
      {
       "output_type": "stream",
       "stream": "stdout",
       "text": [
        "KAUFE DAX SHORT KNOCK \u00dcBER FRANKFURT !\n",
        "WKN: \n",
        "DT09GS \n",
        "\n",
        "KURS: 0,41\n",
        "\n",
        "STOP IST KNOCK bei 9811\n"
       ]
      }
     ],
     "prompt_number": 76
    },
    {
     "cell_type": "code",
     "collapsed": false,
     "input": [
      "import re\n",
      "p = re.compile(r'(?:^|\\s|$)(?=[^\\s]{0,5}[A-Z])(?=[^\\s]{0,5}[0-9])[A-Z0-9]{6}(?:^|\\s|$)')\n",
      "count = 0\n",
      "for msg in messages:\n",
      "    count += 1\n",
      "    if p.findall(msg[\"message\"]):\n",
      "        print count\n",
      "p.findall(messages[11][\"message\"])"
     ],
     "language": "python",
     "metadata": {},
     "outputs": [
      {
       "output_type": "stream",
       "stream": "stdout",
       "text": [
        "12\n",
        "23\n",
        "52\n",
        "68\n",
        "74\n",
        "106\n",
        "119\n",
        "134\n",
        "142\n",
        "151\n",
        "182\n",
        "185\n",
        "187\n"
       ]
      },
      {
       "output_type": "pyout",
       "prompt_number": 167,
       "text": [
        "[u'\\nDT09GS ']"
       ]
      }
     ],
     "prompt_number": 167
    },
    {
     "cell_type": "code",
     "collapsed": false,
     "input": [
      "messages[67][\"message\"]"
     ],
     "language": "python",
     "metadata": {},
     "outputs": [
      {
       "output_type": "pyout",
       "prompt_number": 161,
       "text": [
        "u'Ich kaufe Commerzbank Short-Derivat CF37TJ zu 0,63 \\u20ac / SL ist KO!'"
       ]
      }
     ],
     "prompt_number": 161
    }
   ],
   "metadata": {}
  }
 ]
}