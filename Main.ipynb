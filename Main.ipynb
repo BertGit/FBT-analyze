{
 "metadata": {
  "name": "Main"
 },
 "nbformat": 3,
 "nbformat_minor": 0,
 "worksheets": [
  {
   "cells": [
    {
     "cell_type": "code",
     "collapsed": false,
     "input": [
      "import pandas\n",
      "import json\n",
      "f = open('db.txt','r')\n",
      "\n",
      "data = f.read()\n",
      "f.close()\n",
      "messages = json.loads(data)"
     ],
     "language": "python",
     "metadata": {},
     "outputs": [],
     "prompt_number": 3
    },
    {
     "cell_type": "code",
     "collapsed": false,
     "input": [
      "import re\n",
      "p = re.compile(r'(?:^|\\s|$)(?=[^\\s]{0,5}[A-Z])(?=[^\\s]{0,5}[0-9])[A-Z0-9]{6}(?:^|\\s|$)')\n",
      "count = -1\n",
      "for msg in messages:\n",
      "    count += 1\n",
      "    if \"message\" in msg.keys() and p.findall(msg[\"message\"]):\n",
      "        print msg[\"from\"][\"name\"]"
     ],
     "language": "python",
     "metadata": {},
     "outputs": [
      {
       "output_type": "stream",
       "stream": "stdout",
       "text": [
        "Ren\u00e9 Rodriguez\n",
        "Ren\u00e9 Rodriguez\n",
        "Orkan Kuyas\n",
        "Orkan Kuyas\n",
        "Ren\u00e9 Rodriguez\n",
        "Ren\u00e9 Rodriguez\n",
        "Orkan Kuyas\n",
        "Ren\u00e9 Rodriguez\n",
        "Ren\u00e9 Rodriguez\n",
        "Ren\u00e9 Rodriguez\n",
        "Ren\u00e9 Rodriguez\n",
        "Ren\u00e9 Rodriguez\n",
        "Ren\u00e9 Rodriguez\n",
        "Ren\u00e9 Rodriguez\n",
        "Pascal Banusch\n",
        "Ren\u00e9 Rodriguez\n",
        "Orkan Kuyas\n",
        "Orkan Kuyas\n",
        "Orkan Kuyas\n",
        "Orkan Kuyas\n",
        "Ren\u00e9 Rodriguez\n",
        "Ren\u00e9 Rodriguez\n",
        "Orkan Kuyas\n",
        "Ren\u00e9 Rodriguez\n",
        "Lorenz H\u00e4mmerli\n",
        "Orkan Kuyas\n",
        "Ren\u00e9 Rodriguez\n",
        "Ren\u00e9 Rodriguez\n",
        "Orkan Kuyas\n",
        "Orkan Kuyas\n"
       ]
      }
     ],
     "prompt_number": 23
    },
    {
     "cell_type": "code",
     "collapsed": false,
     "input": [
      "import re\n",
      "p = re.compile(r'(?:^|\\s|$)Linde(?:^|\\s|$)')\n",
      "count = -1\n",
      "for msg in messages:\n",
      "    count += 1\n",
      "    if \"message\" in msg.keys() and p.findall(msg[\"message\"]):\n",
      "        print count\n",
      "        \n",
      "messages[152][\"message\"]"
     ],
     "language": "python",
     "metadata": {},
     "outputs": [
      {
       "output_type": "stream",
       "stream": "stdout",
       "text": [
        "30\n",
        "152\n"
       ]
      },
      {
       "output_type": "pyout",
       "prompt_number": 21,
       "text": [
        "u'Ich kaufe Linde Long-Derivat CF6MQ0 zu 0,29 \\u20ac / SL ist KO!'"
       ]
      }
     ],
     "prompt_number": 21
    }
   ],
   "metadata": {}
  }
 ]
}