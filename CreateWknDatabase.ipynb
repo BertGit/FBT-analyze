{
 "metadata": {
  "name": "CreateWknDatabase"
 },
 "nbformat": 3,
 "nbformat_minor": 0,
 "worksheets": [
  {
   "cells": [
    {
     "cell_type": "heading",
     "level": 1,
     "metadata": {},
     "source": [
      "Database Pre-Filtering"
     ]
    },
    {
     "cell_type": "markdown",
     "metadata": {},
     "source": [
      "Dieses Skript l\u00e4dt die Listen aus db1.txt - db12.txt und extrahiert alle Posts die eine WKN-Nummer enthalten. Diese Posts werden dann separat in einem einzelnen File gespeichert."
     ]
    },
    {
     "cell_type": "code",
     "collapsed": false,
     "input": [
      "#Load file function\n",
      "def load_file(filename):\n",
      "    f = open(filename,'r')\n",
      "    data = f.read()\n",
      "    f.close()\n",
      "    return data\n",
      "\n",
      "def write_file(filename, content):\n",
      "    f = open(filename,'w')\n",
      "    f.write(content)\n",
      "    f.close()"
     ],
     "language": "python",
     "metadata": {},
     "outputs": [],
     "prompt_number": 2
    },
    {
     "cell_type": "code",
     "collapsed": false,
     "input": [
      "import json\n",
      "import re\n",
      "\n",
      "#Create Regex compiler for WKN numbers\n",
      "p = re.compile(r'(?:^|\\s|$)(?=[^\\s]{0,5}[A-Z])(?=[^\\s]{0,5}[0-9])[A-Z0-9]{6}(?:^|\\s|$)')\n",
      "\n",
      "wkn_list = [] #Keeps final set of messages\n",
      "for db in range(1,13):\n",
      "    #Problem with db6.txt (incorrect JSON format)\n",
      "    if db == 6:\n",
      "        continue\n",
      "    print 'Extracting file number {}'.format(db)\n",
      "    #Open db[x].txt file and decrypt JSON\n",
      "    data = load_file('db/db{}.txt'.format(db))\n",
      "    messages = json.loads(data)\n",
      "    #Find all messages including a WKN number and store in new list\n",
      "    for msg in messages:\n",
      "        if \"message\" in msg.keys() and p.findall(msg[\"message\"]):\n",
      "            wkn_list.append(msg)\n",
      "\n",
      "print 'Writing to WKN file'\n",
      "write_file('db/wkn_filtered.txt', json.dumps(wkn_list))\n",
      "print 'Done'"
     ],
     "language": "python",
     "metadata": {},
     "outputs": [
      {
       "output_type": "stream",
       "stream": "stdout",
       "text": [
        "Extracting file number 1\n",
        "Extracting file number 2"
       ]
      },
      {
       "output_type": "stream",
       "stream": "stdout",
       "text": [
        "\n",
        "Extracting file number 3"
       ]
      },
      {
       "output_type": "stream",
       "stream": "stdout",
       "text": [
        "\n",
        "Extracting file number 4"
       ]
      },
      {
       "output_type": "stream",
       "stream": "stdout",
       "text": [
        "\n",
        "Extracting file number 5"
       ]
      },
      {
       "output_type": "stream",
       "stream": "stdout",
       "text": [
        "\n",
        "Extracting file number 7"
       ]
      },
      {
       "output_type": "stream",
       "stream": "stdout",
       "text": [
        "\n",
        "Extracting file number 8"
       ]
      },
      {
       "output_type": "stream",
       "stream": "stdout",
       "text": [
        "\n",
        "Extracting file number 9"
       ]
      },
      {
       "output_type": "stream",
       "stream": "stdout",
       "text": [
        "\n",
        "Extracting file number 10"
       ]
      },
      {
       "output_type": "stream",
       "stream": "stdout",
       "text": [
        "\n",
        "Extracting file number 11"
       ]
      },
      {
       "output_type": "stream",
       "stream": "stdout",
       "text": [
        "\n",
        "Extracting file number 12"
       ]
      },
      {
       "output_type": "stream",
       "stream": "stdout",
       "text": [
        "\n"
       ]
      }
     ],
     "prompt_number": 8
    }
   ],
   "metadata": {}
  }
 ]
}